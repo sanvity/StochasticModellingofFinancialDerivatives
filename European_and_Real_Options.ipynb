{
  "nbformat": 4,
  "nbformat_minor": 0,
  "metadata": {
    "colab": {
      "provenance": []
    },
    "kernelspec": {
      "name": "python3",
      "display_name": "Python 3"
    },
    "language_info": {
      "name": "python"
    }
  },
  "cells": [
    {
      "cell_type": "markdown",
      "source": [
        "# European Options and Real Options Framing\n"
      ],
      "metadata": {
        "id": "-SgyOGgEKqBP"
      }
    },
    {
      "cell_type": "code",
      "source": [
        "import numpy as np\n",
        "import scipy.stats as ss\n",
        "\n",
        "# Define Variables\n",
        "\n",
        "C0 = 4.20          # Market price of call option\n",
        "S0 = 38            # Current stock price\n",
        "K = 35             # Strike price\n",
        "T = 4 / 12         # Time to maturity in years (4 months)\n",
        "r = 0.06           # Risk-free interest rate (annual, continuous compounding)\n",
        "\n",
        "\n",
        "# Black-Scholes Function\n",
        "\n",
        "def black_scholes(S, K, T, r, sigma, option_type='call'):\n",
        "    d1 = (np.log(S/K) + (r + 0.5 * sigma**2) * T) / (sigma * np.sqrt(T))\n",
        "    d2 = d1 - sigma * np.sqrt(T)\n",
        "\n",
        "    if option_type == 'call':\n",
        "        premium = S * ss.norm.cdf(d1) - K * np.exp(-r * T) * ss.norm.cdf(d2)\n",
        "    elif option_type == 'put':\n",
        "        premium = K * np.exp(-r * T) * ss.norm.cdf(-d2) - S * ss.norm.cdf(-d1)\n",
        "\n",
        "\n",
        "    return premium\n",
        "\n",
        "# (a) Implied Volatility Trial-and-Error\n",
        "print(\"Part (a): Trial-and-Error for Implied Volatility (Call Option)\")\n",
        "vol_trials = [0.1, 0.3, 0.5]\n",
        "\n",
        "for sigma in vol_trials:\n",
        "    call_price = black_scholes(S0, K, T, r, sigma, 'call')\n",
        "    print(f\"Volatility = {sigma:.2f} -> Call Price = ${call_price:.4f}\")\n",
        "\n",
        "# (b) Put Price using Accepted Implied Volatility (0.28)\n",
        "print(\"\\nPart (b): Put Option Price using Implied Volatility of 0.28\")\n",
        "sigma_market = 0.28\n",
        "\n",
        "put_price = black_scholes(S0, K, T, r, sigma_market, 'put')\n",
        "call_price = black_scholes(S0, K, T, r, sigma_market, 'call')\n",
        "\n",
        "print(f\"Call Price (σ=0.28) = ${call_price:.4f}\")\n",
        "print(f\"Put Price  (σ=0.28) = ${put_price:.4f}\")\n",
        "\n",
        "# (c) Real Options Analysis\n",
        "print(\"\\nPart (c): Real Options Perspective\")\n",
        "\n",
        "# Interpretation:\n",
        "print(f\"\"\"\n",
        "A firm has the option to launch a drug in 4 months with setup cost $35M (strike),\n",
        "and expected net revenue $38M (stock value). This mimics a European call option.\n",
        "\n",
        "From part (a), market call price is $4.20 — roughly close to the model price at σ ≈ 0.28.\n",
        "This real option is **in-the-money** and its option value reflects flexibility.\n",
        "From a real options view, the firm should evaluate:\n",
        "\n",
        "- The call value > 0 ⇒ There is value in **waiting or flexibility**.\n",
        "- Launching now locks in payoff = $38M - $35M = $3M (if no uncertainty).\n",
        "- But with volatility (uncertainty), option value could increase.\n",
        "\n",
        "→ Hence, launching now may not be optimal unless immediate execution is required.\n",
        "The option value suggests waiting might yield better payoff, supporting the real options logic.\n",
        "\"\"\")"
      ],
      "metadata": {
        "colab": {
          "base_uri": "https://localhost:8080/"
        },
        "id": "tdf5-rh9Nlr3",
        "outputId": "225d31d2-ade5-4f77-d644-1e9b370e0e1b"
      },
      "execution_count": null,
      "outputs": [
        {
          "output_type": "stream",
          "name": "stdout",
          "text": [
            "Part (a): Trial-and-Error for Implied Volatility (Call Option)\n",
            "Volatility = 0.10 -> Call Price = $3.7251\n",
            "Volatility = 0.30 -> Call Price = $4.7625\n",
            "Volatility = 0.50 -> Call Price = $6.2512\n",
            "\n",
            "Part (b): Put Option Price using Implied Volatility of 0.28\n",
            "Call Price (σ=0.28) = $4.6250\n",
            "Put Price  (σ=0.28) = $0.9320\n",
            "\n",
            "Part (c): Real Options Perspective\n",
            "\n",
            "A firm has the option to launch a drug in 4 months with setup cost $35M (strike),\n",
            "and expected net revenue $38M (stock value). This mimics a European call option.\n",
            "\n",
            "From part (a), market call price is $4.20 — roughly close to the model price at σ ≈ 0.28.\n",
            "This real option is **in-the-money** and its option value reflects flexibility.\n",
            "From a real options view, the firm should evaluate:\n",
            "\n",
            "- The call value > 0 ⇒ There is value in **waiting or flexibility**.\n",
            "- Launching now locks in payoff = $38M - $35M = $3M (if no uncertainty).\n",
            "- But with volatility (uncertainty), option value could increase.\n",
            "\n",
            "→ Hence, launching now may not be optimal unless immediate execution is required.\n",
            "The option value suggests waiting might yield better payoff, supporting the real options logic.\n",
            "\n"
          ]
        }
      ]
    }
  ]
}